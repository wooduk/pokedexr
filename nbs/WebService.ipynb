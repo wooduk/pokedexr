{
 "cells": [
  {
   "cell_type": "code",
   "execution_count": null,
   "metadata": {},
   "outputs": [],
   "source": [
    "# default_exp webservice"
   ]
  },
  {
   "cell_type": "markdown",
   "metadata": {},
   "source": [
    "# Web service\n",
    "> a web service to capture image and give prediction + card text"
   ]
  },
  {
   "cell_type": "code",
   "execution_count": null,
   "metadata": {},
   "outputs": [],
   "source": [
    "#export\n",
    "import sys, os\n",
    "from pathlib import Path\n",
    "import aiohttp\n",
    "import pickle\n",
    "import base64\n",
    "from io import BytesIO\n",
    "\n",
    "import uvicorn\n",
    "from starlette.applications import Starlette\n",
    "from starlette.responses import JSONResponse, RedirectResponse\n",
    "from starlette.routing import Route, Mount\n",
    "from starlette.templating import Jinja2Templates\n",
    "from starlette.staticfiles import StaticFiles\n",
    "\n",
    "from fastai.vision import *"
   ]
  },
  {
   "cell_type": "code",
   "execution_count": null,
   "metadata": {},
   "outputs": [],
   "source": [
    "#export\n",
    "ON_JUPY = os.environ['_'].split('/')[-1].lower() == 'jupyter'\n",
    "static_dir = Path('pokedexr/static') if ON_JUPY else Path('static')"
   ]
  },
  {
   "cell_type": "code",
   "execution_count": null,
   "metadata": {},
   "outputs": [],
   "source": [
    "#export\n",
    "templates = Jinja2Templates(directory=static_dir / 'templates')\n",
    "static_files = StaticFiles(directory=static_dir)\n",
    "data_files = pathlib.Path(static_dir / 'data')"
   ]
  },
  {
   "cell_type": "markdown",
   "metadata": {},
   "source": [
    "Load required data for inference"
   ]
  },
  {
   "cell_type": "code",
   "execution_count": null,
   "metadata": {},
   "outputs": [],
   "source": [
    "#export\n",
    "print('Initialising Learner...')\n",
    "learn = load_learner(data_files,'export.pkl')\n",
    "with open(data_files / 'cards.pkl','rb') as f:\n",
    "    cards = pickle.load(f)"
   ]
  },
  {
   "cell_type": "code",
   "execution_count": null,
   "metadata": {},
   "outputs": [
    {
     "name": "stdout",
     "output_type": "stream",
     "text": [
      "[\n",
      "{'number': '120/131', 'name': 'Volkner', 'details_page_ref': 'Volkner_(GX_Starter_Deck_120)', 'sname': 'Volkner', 'img_urls': ['//cdn.bulbagarden.net/upload/thumb/b/b6/VolknerUltraPrism135a.jpg/180px-VolknerUltraPrism135a.jpg', '//cdn.bulbagarden.net/upload/thumb/e/e1/VolknerUltraPrism135.jpg/200px-VolknerUltraPrism135.jpg', '//cdn.bulbagarden.net/upload/thumb/d/d2/VolknerUltraPrism156.jpg/200px-VolknerUltraPrism156.jpg'], 'card_text': [{'type': 'info', 'description': 'Search your deck for an Item card and a  Energy card, reveal them, and put them into your hand. Then, shuffle your deck.'}, {'type': 'info', 'description': 'You may play only 1 Supporter card during your turn (before your attack).'}], 'alt_card_num': {'alt_card_num': {'jp': ['034/038', '120/131', '025/029', '153/173', '095/095', '062/066', '029/035', '133/150', '071/066'], 'en': ['135/156', '156/156', '135a/156']}}}\n",
      "]\n"
     ]
    }
   ],
   "source": [
    "#export \n"
   ]
  },
  {
   "cell_type": "code",
   "execution_count": null,
   "metadata": {},
   "outputs": [],
   "source": [
    "#export\n",
    "async def home(request):\n",
    "    return templates.TemplateResponse('index.html', {'request': request})"
   ]
  },
  {
   "cell_type": "code",
   "execution_count": null,
   "metadata": {},
   "outputs": [],
   "source": [
    "#export\n",
    "async def card(request):\n",
    "    if request.path_params['name'] == 'notknown':\n",
    "        return templates.TemplateResponse('cardnotknown.html', {'request': request})\n",
    "    \n",
    "    info = cards.get(request.path_params['name'],None)\n",
    "    return templates.TemplateResponse('card.html', {'request': request, 'card':info})\n",
    "    "
   ]
  },
  {
   "cell_type": "code",
   "execution_count": null,
   "metadata": {},
   "outputs": [],
   "source": [
    "# export\n",
    "async def feedback(request):\n",
    "    ans,name = request.query_params['ans'],request.query_params['name']\n",
    "    with open('feedback.csv','a') as f:       \n",
    "        if ans == 'correct': \n",
    "            f.write(f\"{name},1\\n\")\n",
    "        elif ans == 'wrong':\n",
    "            f.write(f\"{name},0\\n\")\n",
    "        else:\n",
    "            pass\n",
    "    return RedirectResponse(url=f\"/\", status_code=303)\n",
    "        "
   ]
  },
  {
   "cell_type": "code",
   "execution_count": null,
   "metadata": {},
   "outputs": [],
   "source": [
    "#export\n",
    "import pdb\n",
    "async def analyze(request):\n",
    "    img_data = await request.form()\n",
    "    img = open_image(img_data['file'].file)\n",
    "    print('Got image, making prediction...')\n",
    "    \n",
    "    \n",
    "    predicted_class, pred_class_i, class_probs = learn.predict(img)\n",
    "    \n",
    "    info = cards.get(str(predicted_class),None)\n",
    "    if info:\n",
    "        return RedirectResponse(url=f\"/card/{info['sname']}\", status_code=303)\n",
    "    else:\n",
    "        return RedirectResponse(url=\"/card/notknown\")\n",
    "    "
   ]
  },
  {
   "cell_type": "code",
   "execution_count": null,
   "metadata": {},
   "outputs": [],
   "source": [
    "#export\n",
    "\n",
    "routes = [\n",
    "    Route('/', endpoint=home),\n",
    "    Route('/card/{name}', card),\n",
    "    Route('/analyze', analyze, methods=['POST']),\n",
    "    Route('/feedback', feedback),\n",
    "    Mount('/static', static_files, name='static'),\n",
    "    \n",
    "]"
   ]
  },
  {
   "cell_type": "code",
   "execution_count": null,
   "metadata": {},
   "outputs": [],
   "source": [
    "#export\n",
    "app = Starlette(debug=True, routes=routes)"
   ]
  },
  {
   "cell_type": "code",
   "execution_count": null,
   "metadata": {},
   "outputs": [],
   "source": [
    "#export\n",
    "if __name__ == '__main__':\n",
    "    if 'serve' in sys.argv:\n",
    "        uvicorn.run(app=app, host='0.0.0.0', port=5000, log_level=\"info\")"
   ]
  },
  {
   "cell_type": "code",
   "execution_count": null,
   "metadata": {},
   "outputs": [
    {
     "name": "stdout",
     "output_type": "stream",
     "text": [
      "Converted 01_scraper.ipynb.\n",
      "Converted 02_augmentation.ipynb.\n",
      "Converted Evaluation.ipynb.\n",
      "Converted ExampleBlog.ipynb.\n",
      "Converted Training.ipynb.\n",
      "Converted WebService.ipynb.\n",
      "Converted index.ipynb.\n"
     ]
    }
   ],
   "source": [
    "from nbdev.export import notebook2script\n",
    "notebook2script()"
   ]
  },
  {
   "cell_type": "code",
   "execution_count": null,
   "metadata": {},
   "outputs": [],
   "source": []
  },
  {
   "cell_type": "code",
   "execution_count": null,
   "metadata": {},
   "outputs": [],
   "source": []
  },
  {
   "cell_type": "code",
   "execution_count": null,
   "metadata": {},
   "outputs": [],
   "source": []
  }
 ],
 "metadata": {
  "kernelspec": {
   "display_name": "Python 3",
   "language": "python",
   "name": "python3"
  }
 },
 "nbformat": 4,
 "nbformat_minor": 4
}
